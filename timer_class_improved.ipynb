{
 "cells": [
  {
   "cell_type": "code",
   "execution_count": 64,
   "id": "9d76a279",
   "metadata": {},
   "outputs": [],
   "source": [
    "# a better timer class\n",
    "import time"
   ]
  },
  {
   "cell_type": "code",
   "execution_count": 65,
   "id": "0cc2484e",
   "metadata": {},
   "outputs": [],
   "source": [
    "class TimerException(Exception):\n",
    "    \"\"\"A custom exception used to report errors using Timer class\"\"\""
   ]
  },
  {
   "cell_type": "code",
   "execution_count": 66,
   "id": "86e999d8",
   "metadata": {},
   "outputs": [],
   "source": [
    "class Timer:\n",
    "    def __init__(self):\n",
    "        self._start_time = None\n",
    "        self._elapsed_time = None\n",
    "    \n",
    "    def start(self):\n",
    "        \"\"\"start a new time\"\"\"\n",
    "        if self._start_time is not None:\n",
    "            raise TimerException(\"Timer is running, use stop()\")\n",
    "        self._start_time = time.perf_counter()\n",
    "\n",
    "    def stop(self):\n",
    "        \"\"\"save the elapsed time and re-init timer\"\"\"\n",
    "        if self._start_time is None:\n",
    "            raise TimerException(\"Timer is not running, start using start()\")\n",
    "        self._elapsed_time = time.perf_counter() - self._start_time\n",
    "        self._start_time = None\n",
    "\n",
    "    def elapsed(self):\n",
    "        \"\"\"report elapsed time\"\"\"\n",
    "        if self._elapsed_time is None:\n",
    "            raise TimerException(\"timer has not run yet, use start()\")\n",
    "        return (self._elapsed_time)\n",
    "    \n",
    "    def __str__(self):\n",
    "        \"\"\"print elapsed time\"\"\"\n",
    "        if self._elapsed_time is None:\n",
    "            return \"Timer has not run yet\"\n",
    "        return f\"{self._elapsed_time:.6f} seconds\"\n",
    "\n",
    "    \n",
    "        "
   ]
  },
  {
   "cell_type": "code",
   "execution_count": 67,
   "id": "329a762f",
   "metadata": {},
   "outputs": [
    {
     "name": "stdout",
     "output_type": "stream",
     "text": [
      "sum val: 333333328333333350000000\n",
      "elapsed time: 3.501491 seconds\n"
     ]
    }
   ],
   "source": [
    "t1 = Timer()\n",
    "t1.start()\n",
    "sum_val = sum(i*i for i in range(100000000))\n",
    "print(f\"sum val: {sum_val}\")\n",
    "t1.stop()\n",
    "print(f\"elapsed time: {t1}\")"
   ]
  },
  {
   "cell_type": "code",
   "execution_count": 69,
   "id": "48aaebc0",
   "metadata": {},
   "outputs": [
    {
     "name": "stdout",
     "output_type": "stream",
     "text": [
      "4 0.000352 seconds\n",
      "5 0.005242 seconds\n",
      "6 0.101133 seconds\n",
      "7 0.481664 seconds\n",
      "7 0.481664 seconds\n",
      "8 3.959350 seconds\n",
      "8 3.959350 seconds\n"
     ]
    }
   ],
   "source": [
    "t = Timer()\n",
    "for j in range(4, 9):\n",
    "    t.start()\n",
    "    n = 0\n",
    "    for i in range(10**j):\n",
    "        n = n + i\n",
    "    t.stop()\n",
    "    print(j, t)"
   ]
  },
  {
   "cell_type": "code",
   "execution_count": 70,
   "id": "f254a8e1",
   "metadata": {},
   "outputs": [],
   "source": [
    "import math\n",
    "def issquare(n):\n",
    "    \"\"\"check if input is a perfect square\"\"\"\n",
    "    s = int(math.sqrt(n))\n",
    "    return n == s*s"
   ]
  },
  {
   "cell_type": "code",
   "execution_count": 73,
   "id": "be5ba324",
   "metadata": {},
   "outputs": [
    {
     "name": "stdout",
     "output_type": "stream",
     "text": [
      "0 True\n",
      "1 True\n",
      "2 False\n",
      "3 False\n",
      "4 True\n",
      "5 False\n",
      "6 False\n",
      "7 False\n",
      "8 False\n",
      "9 True\n",
      "10 False\n",
      "11 False\n",
      "12 False\n",
      "13 False\n",
      "14 False\n",
      "15 False\n",
      "16 True\n",
      "17 False\n",
      "18 False\n",
      "19 False\n",
      "20 False\n",
      "21 False\n",
      "22 False\n",
      "23 False\n",
      "24 False\n"
     ]
    }
   ],
   "source": [
    "for i in range(25):\n",
    "    print(i, issquare(i))"
   ]
  }
 ],
 "metadata": {
  "kernelspec": {
   "display_name": ".venv",
   "language": "python",
   "name": "python3"
  },
  "language_info": {
   "codemirror_mode": {
    "name": "ipython",
    "version": 3
   },
   "file_extension": ".py",
   "mimetype": "text/x-python",
   "name": "python",
   "nbconvert_exporter": "python",
   "pygments_lexer": "ipython3",
   "version": "3.14.0"
  }
 },
 "nbformat": 4,
 "nbformat_minor": 5
}
