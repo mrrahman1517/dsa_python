{
 "cells": [
  {
   "cell_type": "code",
   "execution_count": 53,
   "id": "9d76a279",
   "metadata": {},
   "outputs": [],
   "source": [
    "# a better timer class\n",
    "import time"
   ]
  },
  {
   "cell_type": "code",
   "execution_count": 54,
   "id": "0cc2484e",
   "metadata": {},
   "outputs": [],
   "source": [
    "class TimerException(Exception):\n",
    "    \"\"\"A custom exception used to report errors using Timer class\"\"\""
   ]
  },
  {
   "cell_type": "code",
   "execution_count": 55,
   "id": "86e999d8",
   "metadata": {},
   "outputs": [],
   "source": [
    "class Timer:\n",
    "    def __init__(self):\n",
    "        self._start_time = None\n",
    "        self._elapsed_time = None\n",
    "    \n",
    "    def start(self):\n",
    "        \"\"\"start a new time\"\"\"\n",
    "        if self._start_time is not None:\n",
    "            raise TimerException(\"Timer is running, use stop()\")\n",
    "        self._start_time = time.perf_counter()\n",
    "\n",
    "    def stop(self):\n",
    "        \"\"\"save the elapsed time and re-init timer\"\"\"\n",
    "        if self._start_time is None:\n",
    "            raise TimerException(\"Timer is not running, start using start()\")\n",
    "        self._elapsed_time = time.perf_counter() - self._start_time\n",
    "        self._start_time = None\n",
    "\n",
    "    def elapsed(self):\n",
    "        \"\"\"report elapsed time\"\"\"\n",
    "        if self._elapsed_time is None:\n",
    "            raise TimerException(\"timer has not run yet, use start()\")\n",
    "        return (self._elapsed_time)\n",
    "    \n",
    "    def __str__(self):\n",
    "        \"\"\"print elapsed time\"\"\"\n",
    "        if self._elapsed_time is None:\n",
    "            return \"Timer has not run yet\"\n",
    "        return f\"{self._elapsed_time:.6f} seconds\"\n",
    "\n",
    "    \n",
    "        "
   ]
  },
  {
   "cell_type": "code",
   "execution_count": 57,
   "id": "329a762f",
   "metadata": {},
   "outputs": [
    {
     "name": "stdout",
     "output_type": "stream",
     "text": [
      "sum val: 333333328333333350000000\n",
      "elapsed time: 3.43s\n"
     ]
    }
   ],
   "source": [
    "t1 = Timer()\n",
    "t1.start()\n",
    "sum_val = sum(i*i for i in range(100000000))\n",
    "print(f\"sum val: {sum_val}\")\n",
    "t1.stop()\n",
    "print(f\"elapsed time: {t1.elapsed():.2f}s\")"
   ]
  },
  {
   "cell_type": "code",
   "execution_count": 56,
   "id": "48aaebc0",
   "metadata": {},
   "outputs": [
    {
     "name": "stdout",
     "output_type": "stream",
     "text": [
      "4 0.000520 seconds\n",
      "5 0.005720 seconds\n",
      "6 0.045459 seconds\n",
      "7 0.386669 seconds\n",
      "7 0.386669 seconds\n",
      "8 4.049147 seconds\n",
      "8 4.049147 seconds\n"
     ]
    }
   ],
   "source": [
    "t = Timer()\n",
    "for j in range(4, 9):\n",
    "    t.start()\n",
    "    n = 0\n",
    "    for i in range(10**j):\n",
    "        n = n + i\n",
    "    t.stop()\n",
    "    print(j, t)"
   ]
  }
 ],
 "metadata": {
  "kernelspec": {
   "display_name": ".venv",
   "language": "python",
   "name": "python3"
  },
  "language_info": {
   "codemirror_mode": {
    "name": "ipython",
    "version": 3
   },
   "file_extension": ".py",
   "mimetype": "text/x-python",
   "name": "python",
   "nbconvert_exporter": "python",
   "pygments_lexer": "ipython3",
   "version": "3.14.0"
  }
 },
 "nbformat": 4,
 "nbformat_minor": 5
}
