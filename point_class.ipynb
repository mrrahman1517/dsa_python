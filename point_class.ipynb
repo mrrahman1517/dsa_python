{
 "cells": [
  {
   "cell_type": "markdown",
   "id": "08dc37ad",
   "metadata": {},
   "source": [
    "# Point Class - Data Structure Implementation\n",
    "\n",
    "This notebook demonstrates the implementation of a Point class for 2D coordinates with various operations and methods. We'll also explore why the original code had issues and how to fix them."
   ]
  },
  {
   "cell_type": "code",
   "execution_count": 15,
   "id": "6267b7c8",
   "metadata": {},
   "outputs": [
    {
     "name": "stdout",
     "output_type": "stream",
     "text": [
      "Point class defined successfully!\n"
     ]
    }
   ],
   "source": [
    "import math\n",
    "\n",
    "class Point:\n",
    "    def __init__(self, a=0, b=0):\n",
    "        \"\"\"Initialize a point with x and y coordinates.\"\"\"\n",
    "        self.x = a\n",
    "        self.y = b \n",
    "\n",
    "    def translate(self, deltax, deltay):\n",
    "        \"\"\"Move the point by deltax and deltay.\"\"\"\n",
    "        self.x += deltax\n",
    "        self.y += deltay \n",
    "\n",
    "    def odistance(self):\n",
    "        \"\"\"Calculate distance from origin (0,0).\"\"\"\n",
    "        d = math.sqrt(self.x * self.x + self.y * self.y)\n",
    "        return d\n",
    "    \n",
    "    def __add__(self, other):\n",
    "        \"\"\"Add two points together (vector addition).\"\"\"\n",
    "        if isinstance(other, Point):\n",
    "            return Point(self.x + other.x, self.y + other.y)\n",
    "        else:\n",
    "            raise TypeError(\"Can only add Point objects together\")\n",
    "    \n",
    "    def __str__(self):\n",
    "        \"\"\"String representation of the point.\"\"\"\n",
    "        return f\"Point({self.x}, {self.y})\"\n",
    "    \n",
    "    def __repr__(self):\n",
    "        \"\"\"Developer representation of the point.\"\"\"\n",
    "        return f\"Point({self.x}, {self.y})\"\n",
    "\n",
    "print(\"Point class defined successfully!\")"
   ]
  },
  {
   "cell_type": "markdown",
   "id": "532e4e69",
   "metadata": {},
   "source": [
    "## Testing the Point Class\n",
    "\n",
    "Let's create some points and test the functionality. This includes the original code that was causing issues."
   ]
  },
  {
   "cell_type": "code",
   "execution_count": 16,
   "id": "c630e397",
   "metadata": {},
   "outputs": [
    {
     "name": "stdout",
     "output_type": "stream",
     "text": [
      "Point p: Point(3, 4)\n",
      "Point q: Point(7, 11)\n",
      "Distance from origin for p: 5.0\n",
      "Distance from origin for q: 13.038404810405298\n"
     ]
    }
   ],
   "source": [
    "# Create the same points as in the original code\n",
    "p = Point(3, 4)\n",
    "q = Point(7, 11)\n",
    "\n",
    "print(\"Point p:\", p)\n",
    "print(\"Point q:\", q)\n",
    "print(\"Distance from origin for p:\", p.odistance())\n",
    "print(\"Distance from origin for q:\", q.odistance())"
   ]
  },
  {
   "cell_type": "code",
   "execution_count": 17,
   "id": "d248e762",
   "metadata": {},
   "outputs": [
    {
     "name": "stdout",
     "output_type": "stream",
     "text": [
      "p + q = Point(10, 15)\n",
      "\n",
      "Before translation - p: Point(3, 4)\n",
      "After translate(2, 3) - p: Point(5, 7)\n"
     ]
    }
   ],
   "source": [
    "# Now we can add points together (this was the issue in the original code)\n",
    "result = p + q\n",
    "print(\"p + q =\", result)\n",
    "\n",
    "# Test translation\n",
    "print(\"\\nBefore translation - p:\", p)\n",
    "p.translate(2, 3)\n",
    "print(\"After translate(2, 3) - p:\", p)"
   ]
  },
  {
   "cell_type": "markdown",
   "id": "b7fd090b",
   "metadata": {},
   "source": [
    "## What was wrong with the original code?\n",
    "\n",
    "The original code had the line `print(p + q)` but the Point class didn't have an `__add__` method defined. This would cause a `TypeError` because Python doesn't know how to add two Point objects together.\n",
    "\n",
    "### Issues in the original code:\n",
    "1. **Missing `__add__` method**: You can't use the `+` operator on custom objects without defining how addition should work\n",
    "2. **Missing `__str__` method**: Without this, printing Point objects shows unhelpful output like `<__main__.Point object at 0x...>`\n",
    "3. **Python command not found**: This was likely due to Python not being in your PATH or using `python` instead of `python3`"
   ]
  },
  {
   "cell_type": "markdown",
   "id": "658aed52",
   "metadata": {},
   "source": [
    "## Additional Point Class Methods\n",
    "\n",
    "Let's add some more useful methods to make our Point class more complete:"
   ]
  },
  {
   "cell_type": "code",
   "execution_count": 18,
   "id": "42fd1aaf",
   "metadata": {},
   "outputs": [
    {
     "name": "stdout",
     "output_type": "stream",
     "text": [
      "Point p1: Point(0, 0)\n",
      "Point p2: Point(3, 4)\n",
      "Point p3: Point(6, 8)\n",
      "Distance from p1 to p2: 5.0\n",
      "p3 - p2 = Point(3, 4)\n",
      "Midpoint of p1 and p2: Point(1.5, 2.0)\n",
      "p1 == p2: False\n",
      "p1 == EnhancedPoint(0, 0): True\n"
     ]
    }
   ],
   "source": [
    "class EnhancedPoint(Point):\n",
    "    \"\"\"Enhanced Point class with additional methods.\"\"\"\n",
    "    \n",
    "    def distance_to(self, other):\n",
    "        \"\"\"Calculate distance between two points.\"\"\"\n",
    "        if not isinstance(other, Point):\n",
    "            raise TypeError(\"Can only calculate distance to another Point\")\n",
    "        dx = self.x - other.x\n",
    "        dy = self.y - other.y\n",
    "        return math.sqrt(dx*dx + dy*dy)\n",
    "    \n",
    "    def __sub__(self, other):\n",
    "        \"\"\"Subtract two points (vector subtraction).\"\"\"\n",
    "        if isinstance(other, Point):\n",
    "            return EnhancedPoint(self.x - other.x, self.y - other.y)\n",
    "        else:\n",
    "            raise TypeError(\"Can only subtract Point objects\")\n",
    "    \n",
    "    def __eq__(self, other):\n",
    "        \"\"\"Check if two points are equal.\"\"\"\n",
    "        if isinstance(other, Point):\n",
    "            return self.x == other.x and self.y == other.y\n",
    "        return False\n",
    "    \n",
    "    def midpoint(self, other):\n",
    "        \"\"\"Find the midpoint between two points.\"\"\"\n",
    "        if not isinstance(other, Point):\n",
    "            raise TypeError(\"Can only find midpoint with another Point\")\n",
    "        mid_x = (self.x + other.x) / 2\n",
    "        mid_y = (self.y + other.y) / 2\n",
    "        return EnhancedPoint(mid_x, mid_y)\n",
    "\n",
    "# Test the enhanced functionality\n",
    "p1 = EnhancedPoint(0, 0)\n",
    "p2 = EnhancedPoint(3, 4)\n",
    "p3 = EnhancedPoint(6, 8)\n",
    "\n",
    "print(\"Point p1:\", p1)\n",
    "print(\"Point p2:\", p2)\n",
    "print(\"Point p3:\", p3)\n",
    "print(\"Distance from p1 to p2:\", p1.distance_to(p2))\n",
    "print(\"p3 - p2 =\", p3 - p2)\n",
    "print(\"Midpoint of p1 and p2:\", p1.midpoint(p2))\n",
    "print(\"p1 == p2:\", p1 == p2)\n",
    "print(\"p1 == EnhancedPoint(0, 0):\", p1 == EnhancedPoint(0, 0))"
   ]
  }
 ],
 "metadata": {
  "kernelspec": {
   "display_name": ".venv",
   "language": "python",
   "name": "python3"
  },
  "language_info": {
   "codemirror_mode": {
    "name": "ipython",
    "version": 3
   },
   "file_extension": ".py",
   "mimetype": "text/x-python",
   "name": "python",
   "nbconvert_exporter": "python",
   "pygments_lexer": "ipython3",
   "version": "3.14.0"
  }
 },
 "nbformat": 4,
 "nbformat_minor": 5
}
