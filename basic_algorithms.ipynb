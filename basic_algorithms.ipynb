{
 "cells": [
  {
   "cell_type": "markdown",
   "id": "32ded627",
   "metadata": {},
   "source": [
    "# Basic Algorithms and Data Structure Operations\n",
    "\n",
    "This notebook demonstrates fundamental programming concepts and algorithms including:\n",
    "\n",
    "1. **Variable Swapping**: Python's tuple unpacking for elegant variable swapping\n",
    "2. **Maximum Element Finding**: Linear search algorithm to find the largest element\n",
    "3. **Duplicate Detection**: Nested loop approach to check for duplicate elements\n",
    "4. **Matrix Multiplication**: Standard algorithm for multiplying two matrices\n",
    "\n",
    "Each section includes working code examples with explanations.\n",
    "\n",
    "**Author**: Muntasir Raihan Rahman"
   ]
  },
  {
   "cell_type": "markdown",
   "id": "bd839160",
   "metadata": {},
   "source": [
    "## 1. Variable Swapping Demonstration\n",
    "\n",
    "Python provides an elegant way to swap variables using tuple unpacking. This is more concise and readable than traditional temporary variable approaches."
   ]
  },
  {
   "cell_type": "code",
   "execution_count": null,
   "id": "394c29b6",
   "metadata": {},
   "outputs": [
    {
     "name": "stdout",
     "output_type": "stream",
     "text": [
      "5 3\n"
     ]
    }
   ],
   "source": [
    "# Initialize two variables for swapping demonstration\n",
    "x = 5\n",
    "y = 3\n",
    "print(\"Initial values - x:\", x, \"y:\", y)"
   ]
  },
  {
   "cell_type": "code",
   "execution_count": null,
   "id": "d33640a4",
   "metadata": {},
   "outputs": [
    {
     "name": "stdout",
     "output_type": "stream",
     "text": [
      "3 5\n"
     ]
    }
   ],
   "source": [
    "# Swap variables using Python's tuple unpacking (elegant approach)\n",
    "(x, y) = (y, x)\n",
    "print(\"After first swap - x:\", x, \"y:\", y)"
   ]
  },
  {
   "cell_type": "code",
   "execution_count": null,
   "id": "f46bdee1",
   "metadata": {},
   "outputs": [
    {
     "name": "stdout",
     "output_type": "stream",
     "text": [
      "5 3\n"
     ]
    }
   ],
   "source": [
    "# Swap again to demonstrate the process\n",
    "(x, y) = (y, x)\n",
    "print(\"After second swap - x:\", x, \"y:\", y)"
   ]
  },
  {
   "cell_type": "markdown",
   "id": "6f2ff031",
   "metadata": {},
   "source": [
    "## 2. Maximum Element Finding Algorithm\n",
    "\n",
    "This function demonstrates a simple linear search algorithm to find the maximum element in a list. \n",
    "- **Time Complexity**: O(n) where n is the length of the list\n",
    "- **Space Complexity**: O(1) - constant extra space"
   ]
  },
  {
   "cell_type": "code",
   "execution_count": null,
   "id": "8442b593",
   "metadata": {},
   "outputs": [],
   "source": [
    "def maxElement(L):\n",
    "    \"\"\"\n",
    "    Find the maximum element in a list using linear search.\n",
    "    \n",
    "    Args:\n",
    "        L (list): Input list of comparable elements\n",
    "        \n",
    "    Returns:\n",
    "        The maximum element in the list\n",
    "        \n",
    "    Time Complexity: O(n)\n",
    "    Space Complexity: O(1)\n",
    "    \"\"\"\n",
    "    maxval = L[0]  # Initialize with first element\n",
    "    for i in range(len(L)):\n",
    "        if L[i] > maxval:\n",
    "            maxval = L[i]\n",
    "    return maxval"
   ]
  },
  {
   "cell_type": "code",
   "execution_count": null,
   "id": "2f5761b6",
   "metadata": {},
   "outputs": [
    {
     "data": {
      "text/plain": [
       "100"
      ]
     },
     "execution_count": 4,
     "metadata": {},
     "output_type": "execute_result"
    }
   ],
   "source": [
    "# Test the maxElement function with a sample list\n",
    "test_list = [1, 2, 3, -30, 100]\n",
    "result = maxElement(test_list)\n",
    "print(f\"Maximum element in {test_list} is: {result}\")"
   ]
  },
  {
   "cell_type": "markdown",
   "id": "cc49431f",
   "metadata": {},
   "source": [
    "## 3. Duplicate Detection Algorithm\n",
    "\n",
    "This function checks if a list contains any duplicate elements using a nested loop approach.\n",
    "- **Time Complexity**: O(n²) where n is the length of the list\n",
    "- **Space Complexity**: O(1) - constant extra space\n",
    "- **Algorithm**: Compare each element with every other element that comes after it"
   ]
  },
  {
   "cell_type": "code",
   "execution_count": 2,
   "id": "f9abb41c",
   "metadata": {},
   "outputs": [],
   "source": [
    "def noDuplicates(L):\n",
    "    \"\"\"\n",
    "    Check if a list contains no duplicate elements.\n",
    "    \n",
    "    Args:\n",
    "        L (list): Input list to check for duplicates\n",
    "        \n",
    "    Returns:\n",
    "        bool: True if no duplicates found, False otherwise\n",
    "        \n",
    "    Time Complexity: O(n²)\n",
    "    Space Complexity: O(1)\n",
    "    \n",
    "    Algorithm: For each element, compare it with all subsequent elements\n",
    "    \"\"\"\n",
    "    for i in range(len(L)):\n",
    "        for j in range(i+1, len(L)):  # Start from i+1 to avoid self-comparison\n",
    "            if L[i] == L[j]:\n",
    "                return False  # Found a duplicate\n",
    "    return True  # No duplicates found"
   ]
  },
  {
   "cell_type": "code",
   "execution_count": 3,
   "id": "c96f2fb4",
   "metadata": {},
   "outputs": [
    {
     "name": "stdout",
     "output_type": "stream",
     "text": [
      "List [1, 2, 3] has no duplicates: True\n",
      "List [1, 2, 3, 2] has no duplicates: False\n"
     ]
    }
   ],
   "source": [
    "# Test the noDuplicates function with a list containing no duplicates\n",
    "test_list_no_dups = [1, 2, 3]\n",
    "result = noDuplicates(test_list_no_dups)\n",
    "print(f\"List {test_list_no_dups} has no duplicates: {result}\")\n",
    "\n",
    "# Test with a list containing duplicates\n",
    "test_list_with_dups = [1, 2, 3, 2]\n",
    "result2 = noDuplicates(test_list_with_dups)\n",
    "print(f\"List {test_list_with_dups} has no duplicates: {result2}\")"
   ]
  },
  {
   "cell_type": "code",
   "execution_count": null,
   "id": "3e4f7f44",
   "metadata": {},
   "outputs": [
    {
     "name": "stdout",
     "output_type": "stream",
     "text": [
      "Checking list: [1, 2, 3]\n",
      "Comparing L[0]=1 with L[1]=2\n",
      "Comparing L[0]=1 with L[2]=3\n",
      "Comparing L[1]=2 with L[2]=3\n",
      "No duplicates found\n"
     ]
    },
    {
     "data": {
      "text/plain": [
       "True"
      ]
     },
     "execution_count": 7,
     "metadata": {},
     "output_type": "execute_result"
    }
   ],
   "source": [
    "# Debug version of noDuplicates function for educational purposes\n",
    "def noDuplicates_debug(L):\n",
    "    \"\"\"\n",
    "    Debug version that shows the comparison process step by step.\n",
    "    \n",
    "    Args:\n",
    "        L (list): Input list to check for duplicates\n",
    "        \n",
    "    Returns:\n",
    "        bool: True if no duplicates found, False otherwise\n",
    "    \"\"\"\n",
    "    print(f\"Checking list: {L}\")\n",
    "    for i in range(len(L)):\n",
    "        for j in range(i+1, len(L)):\n",
    "            print(f\"Comparing L[{i}]={L[i]} with L[{j}]={L[j]}\")\n",
    "            if L[i] == L[j]:\n",
    "                print(f\"Found duplicate: {L[i]} at positions {i} and {j}\")\n",
    "                return False\n",
    "    print(\"No duplicates found\")\n",
    "    return True\n",
    "\n",
    "# Test the debug version\n",
    "print(\"Debug test with [1,2,3]:\")\n",
    "noDuplicates_debug([1, 2, 3])"
   ]
  },
  {
   "cell_type": "markdown",
   "id": "2db6b617",
   "metadata": {},
   "source": [
    "## 4. Matrix Multiplication Algorithm\n",
    "\n",
    "This section demonstrates the standard algorithm for multiplying two matrices.\n",
    "- **Time Complexity**: O(m×n×p) where m×n and n×p are the dimensions of the matrices\n",
    "- **Space Complexity**: O(m×p) for the result matrix\n",
    "- **Prerequisites**: Number of columns in first matrix must equal number of rows in second matrix"
   ]
  },
  {
   "cell_type": "code",
   "execution_count": null,
   "id": "0b596c02",
   "metadata": {},
   "outputs": [],
   "source": [
    "def matrixMultiply(A, B):\n",
    "    \"\"\"\n",
    "    Multiply two matrices using the standard algorithm.\n",
    "    \n",
    "    Args:\n",
    "        A (list): First matrix (m × n)\n",
    "        B (list): Second matrix (n × p)\n",
    "        \n",
    "    Returns:\n",
    "        list: Result matrix (m × p)\n",
    "        \n",
    "    Time Complexity: O(m × n × p)\n",
    "    Space Complexity: O(m × p)\n",
    "    \n",
    "    Note: Number of columns in A must equal number of rows in B\n",
    "    \"\"\"\n",
    "    # Get dimensions: A is m×n, B is n×p, result will be m×p\n",
    "    (m, n, p) = (len(A), len(B), len(B[0]))\n",
    "    \n",
    "    # Initialize result matrix with zeros\n",
    "    C = [[0 for j in range(p)]\n",
    "         for i in range(m)]\n",
    "    \n",
    "    # Perform matrix multiplication using triple nested loops\n",
    "    for i in range(m):        # For each row in result matrix\n",
    "        for j in range(p):    # For each column in result matrix\n",
    "            for k in range(n):  # For each element in the dot product\n",
    "                C[i][j] = C[i][j] + A[i][k] * B[k][j]\n",
    "\n",
    "    return C"
   ]
  },
  {
   "cell_type": "code",
   "execution_count": null,
   "id": "64b50516",
   "metadata": {},
   "outputs": [],
   "source": [
    "# Create identity matrices for testing\n",
    "# Identity matrix: a square matrix with 1s on the diagonal and 0s elsewhere\n",
    "A = [[1, 0, 0], \n",
    "     [0, 1, 0], \n",
    "     [0, 0, 1]]\n",
    "\n",
    "print(\"Matrix A (3×3 Identity Matrix):\")\n",
    "for row in A:\n",
    "    print(row)"
   ]
  },
  {
   "cell_type": "code",
   "execution_count": null,
   "id": "cea7e5ff",
   "metadata": {},
   "outputs": [],
   "source": [
    "# Create another identity matrix for multiplication\n",
    "B = [[1, 0, 0], \n",
    "     [0, 1, 0], \n",
    "     [0, 0, 1]]\n",
    "\n",
    "print(\"Matrix B (3×3 Identity Matrix):\")\n",
    "for row in B:\n",
    "    print(row)"
   ]
  },
  {
   "cell_type": "code",
   "execution_count": null,
   "id": "d24b1d31",
   "metadata": {},
   "outputs": [],
   "source": [
    "# Multiply the two identity matrices\n",
    "# Identity × Identity = Identity (mathematical property)\n",
    "result = matrixMultiply(A, B)\n",
    "\n",
    "print(\"Result of A × B:\")\n",
    "for row in result:\n",
    "    print(row)\n",
    "\n",
    "print(\"\\nVerification: Multiplying two identity matrices should yield an identity matrix\")"
   ]
  },
  {
   "cell_type": "markdown",
   "id": "f27173a7",
   "metadata": {},
   "source": [
    "## Summary\n",
    "\n",
    "This notebook demonstrates four fundamental algorithms in computer science:\n",
    "\n",
    "1. **Variable Swapping**: Showcases Python's elegant tuple unpacking syntax\n",
    "2. **Linear Search for Maximum**: O(n) algorithm for finding the largest element\n",
    "3. **Duplicate Detection**: O(n²) nested loop approach for finding duplicates\n",
    "4. **Matrix Multiplication**: O(m×n×p) standard algorithm for matrix operations\n",
    "\n",
    "### Key Learning Points:\n",
    "- **Time Complexity Analysis**: Understanding how algorithms scale with input size\n",
    "- **Space Complexity**: Considering memory usage of different approaches\n",
    "- **Algorithm Design**: Different approaches to solve common problems\n",
    "- **Code Documentation**: Importance of clear comments and docstrings\n",
    "\n",
    "### Further Improvements:\n",
    "- The duplicate detection could be optimized using hash sets (O(n) time)\n",
    "- Matrix multiplication could use more advanced algorithms like Strassen's algorithm\n",
    "- Error handling could be added for edge cases (empty lists, incompatible matrix dimensions)\n",
    "\n",
    "**Author**: Muntasir Raihan Rahman"
   ]
  }
 ],
 "metadata": {
  "kernelspec": {
   "display_name": ".venv",
   "language": "python",
   "name": "python3"
  },
  "language_info": {
   "codemirror_mode": {
    "name": "ipython",
    "version": 3
   },
   "file_extension": ".py",
   "mimetype": "text/x-python",
   "name": "python",
   "nbconvert_exporter": "python",
   "pygments_lexer": "ipython3",
   "version": "3.14.0"
  }
 },
 "nbformat": 4,
 "nbformat_minor": 5
}
