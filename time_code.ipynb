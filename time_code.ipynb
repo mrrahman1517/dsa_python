{
 "cells": [
  {
   "cell_type": "code",
   "execution_count": 17,
   "id": "c5421393",
   "metadata": {},
   "outputs": [],
   "source": [
    "import time"
   ]
  },
  {
   "cell_type": "code",
   "execution_count": 18,
   "id": "c2f94e06",
   "metadata": {},
   "outputs": [],
   "source": [
    "start = time.perf_counter()\n",
    "time.sleep(1)\n",
    "end = time.perf_counter()"
   ]
  },
  {
   "cell_type": "code",
   "execution_count": 19,
   "id": "8946e2f9",
   "metadata": {},
   "outputs": [],
   "source": [
    "elapsed = end - start"
   ]
  },
  {
   "cell_type": "code",
   "execution_count": 20,
   "id": "a4eb6ca8",
   "metadata": {},
   "outputs": [
    {
     "name": "stdout",
     "output_type": "stream",
     "text": [
      "1.0053696249960922\n"
     ]
    }
   ],
   "source": [
    "print(elapsed)"
   ]
  },
  {
   "cell_type": "code",
   "execution_count": 21,
   "id": "1247c655",
   "metadata": {},
   "outputs": [],
   "source": [
    "class Timer:\n",
    "    def __init__(self):\n",
    "        self._start_time = 0\n",
    "        self._elapsed_time = 0\n",
    "    \n",
    "    def start(self):\n",
    "        self._start_time = time.perf_counter()\n",
    "\n",
    "    def stop(self):\n",
    "        self._elapsed_time = time.perf_counter() - self._start_time\n",
    "\n",
    "    def elapsed(self):\n",
    "        return (self._elapsed_time)"
   ]
  }
 ],
 "metadata": {
  "kernelspec": {
   "display_name": ".venv",
   "language": "python",
   "name": "python3"
  },
  "language_info": {
   "codemirror_mode": {
    "name": "ipython",
    "version": 3
   },
   "file_extension": ".py",
   "mimetype": "text/x-python",
   "name": "python",
   "nbconvert_exporter": "python",
   "pygments_lexer": "ipython3",
   "version": "3.14.0"
  }
 },
 "nbformat": 4,
 "nbformat_minor": 5
}
